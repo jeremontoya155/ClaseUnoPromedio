{
  "nbformat": 4,
  "nbformat_minor": 0,
  "metadata": {
    "colab": {
      "name": "EntregaUno.ipynb",
      "provenance": [],
      "collapsed_sections": [],
      "authorship_tag": "ABX9TyPMZP4U7KopFOP6wlPDdLAE",
      "include_colab_link": true
    },
    "kernelspec": {
      "name": "python3",
      "display_name": "Python 3"
    },
    "language_info": {
      "name": "python"
    }
  },
  "cells": [
    {
      "cell_type": "markdown",
      "metadata": {
        "id": "view-in-github",
        "colab_type": "text"
      },
      "source": [
        "<a href=\"https://colab.research.google.com/github/jeremontoya155/ClaseUnoPromedio/blob/main/EntregaUno.ipynb\" target=\"_parent\"><img src=\"https://colab.research.google.com/assets/colab-badge.svg\" alt=\"Open In Colab\"/></a>"
      ]
    },
    {
      "cell_type": "code",
      "execution_count": 7,
      "metadata": {
        "id": "s8fCuPrGEzFX"
      },
      "outputs": [],
      "source": [
        "import random\n",
        "def actvUno(numero):\n",
        "    if numero<2:\n",
        "        return 1\n",
        "    else:\n",
        "        return numero*actvUno(numero-1)\n",
        "  "
      ]
    },
    {
      "cell_type": "code",
      "source": [
        "#Usamos un numero aleatorio para las acciones\n",
        "numero=random.randit(1,10)\n",
        "print(\"Usamos el numero:\"+numero)\n",
        "salida=actvUno(numero)\n",
        "print(\"El factorial del numero es:\"+salida)\n"
      ],
      "metadata": {
        "colab": {
          "base_uri": "https://localhost:8080/"
        },
        "id": "oNQ_xadXFAm9",
        "outputId": "6a334371-27b7-48c1-e8e3-450306b88680"
      },
      "execution_count": 4,
      "outputs": [
        {
          "output_type": "stream",
          "name": "stdout",
          "text": [
            "120\n"
          ]
        }
      ]
    },
    {
      "cell_type": "code",
      "source": [
        "def actvDos(cotaInferior,cotaSuperior):\n",
        "    \n",
        "    acumulador=0\n",
        "    if cotaInferior>cotaSuperior:\n",
        "        print(\"Se trabajara con las cotas invertidas\")\n",
        "        for i in range(cotaSuperior,cotaInferior):\n",
        "            acumulador+=i\n",
        "    elif cotaInferior==cotaSuperior:\n",
        "        acumulador=cotaInferior+cotaSuperior\n",
        "    else:\n",
        "        for i in range(cotaInferior,cotaSuperior):\n",
        "            acumulador+=i\n",
        "\n",
        "    return acumulador"
      ],
      "metadata": {
        "id": "AR39XYNFFchv"
      },
      "execution_count": 5,
      "outputs": []
    },
    {
      "cell_type": "code",
      "source": [
        "numeroA=random.randint(1,10)\n",
        "numeroB=random.randint(1,10)\n",
        "print(\"Numeros para el ejercicio de suma\\nPrimer numero:\"+str(numeroA)+\" Segundo numero:\"+str(numeroB))\n",
        "ejecucion=actvDos(numeroA,numeroB)\n",
        "print(\"Ejecucion de la suma da:\"+str(ejecucion))\n"
      ],
      "metadata": {
        "colab": {
          "base_uri": "https://localhost:8080/"
        },
        "id": "wWNSOJiTFg-o",
        "outputId": "a433e938-4016-40fd-c255-acbc7d81ed25"
      },
      "execution_count": 11,
      "outputs": [
        {
          "output_type": "stream",
          "name": "stdout",
          "text": [
            "Numeros para el ejercicio de suma\n",
            "Primer numero:10 Segundo numero:10\n",
            "Ejecucion de la suma da:20\n"
          ]
        }
      ]
    }
  ]
}